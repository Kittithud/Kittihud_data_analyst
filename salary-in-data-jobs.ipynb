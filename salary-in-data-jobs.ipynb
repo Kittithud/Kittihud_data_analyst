{
 "cells": [
  {
   "cell_type": "code",
   "execution_count": 1,
   "id": "9a5e1be4",
   "metadata": {
    "_cell_guid": "b1076dfc-b9ad-4769-8c92-a6c4dae69d19",
    "_uuid": "8f2839f25d086af736a60e9eeb907d3b93b6e0e5",
    "execution": {
     "iopub.execute_input": "2023-06-06T15:37:45.914489Z",
     "iopub.status.busy": "2023-06-06T15:37:45.913799Z",
     "iopub.status.idle": "2023-06-06T15:37:45.927748Z",
     "shell.execute_reply": "2023-06-06T15:37:45.926590Z"
    },
    "papermill": {
     "duration": 0.023326,
     "end_time": "2023-06-06T15:37:45.929951",
     "exception": false,
     "start_time": "2023-06-06T15:37:45.906625",
     "status": "completed"
    },
    "tags": []
   },
   "outputs": [
    {
     "name": "stdout",
     "output_type": "stream",
     "text": [
      "/kaggle/input/data-science-salaries-2023/ds_salaries.csv\n"
     ]
    }
   ],
   "source": [
    "import numpy as np # linear algebra\n",
    "import pandas as pd # data processing, CSV file I/O (e.g. pd.read_csv)\n",
    "import os\n",
    "import matplotlib.pyplot as plt # import library for visualization\n",
    "for dirname, _, filenames in os.walk('/kaggle/input'):\n",
    "    for filename in filenames:\n",
    "        print(os.path.join(dirname, filename))\n"
   ]
  },
  {
   "cell_type": "code",
   "execution_count": 2,
   "id": "0459cf8d",
   "metadata": {
    "execution": {
     "iopub.execute_input": "2023-06-06T15:37:45.942352Z",
     "iopub.status.busy": "2023-06-06T15:37:45.941661Z",
     "iopub.status.idle": "2023-06-06T15:37:46.002061Z",
     "shell.execute_reply": "2023-06-06T15:37:46.001094Z"
    },
    "papermill": {
     "duration": 0.06894,
     "end_time": "2023-06-06T15:37:46.004462",
     "exception": false,
     "start_time": "2023-06-06T15:37:45.935522",
     "status": "completed"
    },
    "tags": []
   },
   "outputs": [
    {
     "data": {
      "text/html": [
       "<div>\n",
       "<style scoped>\n",
       "    .dataframe tbody tr th:only-of-type {\n",
       "        vertical-align: middle;\n",
       "    }\n",
       "\n",
       "    .dataframe tbody tr th {\n",
       "        vertical-align: top;\n",
       "    }\n",
       "\n",
       "    .dataframe thead th {\n",
       "        text-align: right;\n",
       "    }\n",
       "</style>\n",
       "<table border=\"1\" class=\"dataframe\">\n",
       "  <thead>\n",
       "    <tr style=\"text-align: right;\">\n",
       "      <th></th>\n",
       "      <th>work_year</th>\n",
       "      <th>experience_level</th>\n",
       "      <th>employment_type</th>\n",
       "      <th>job_title</th>\n",
       "      <th>salary</th>\n",
       "      <th>salary_currency</th>\n",
       "      <th>salary_in_usd</th>\n",
       "      <th>employee_residence</th>\n",
       "      <th>remote_ratio</th>\n",
       "      <th>company_location</th>\n",
       "      <th>company_size</th>\n",
       "    </tr>\n",
       "  </thead>\n",
       "  <tbody>\n",
       "    <tr>\n",
       "      <th>0</th>\n",
       "      <td>2023</td>\n",
       "      <td>SE</td>\n",
       "      <td>FT</td>\n",
       "      <td>Principal Data Scientist</td>\n",
       "      <td>80000</td>\n",
       "      <td>EUR</td>\n",
       "      <td>85847</td>\n",
       "      <td>ES</td>\n",
       "      <td>100</td>\n",
       "      <td>ES</td>\n",
       "      <td>L</td>\n",
       "    </tr>\n",
       "    <tr>\n",
       "      <th>1</th>\n",
       "      <td>2023</td>\n",
       "      <td>MI</td>\n",
       "      <td>CT</td>\n",
       "      <td>ML Engineer</td>\n",
       "      <td>30000</td>\n",
       "      <td>USD</td>\n",
       "      <td>30000</td>\n",
       "      <td>US</td>\n",
       "      <td>100</td>\n",
       "      <td>US</td>\n",
       "      <td>S</td>\n",
       "    </tr>\n",
       "    <tr>\n",
       "      <th>2</th>\n",
       "      <td>2023</td>\n",
       "      <td>MI</td>\n",
       "      <td>CT</td>\n",
       "      <td>ML Engineer</td>\n",
       "      <td>25500</td>\n",
       "      <td>USD</td>\n",
       "      <td>25500</td>\n",
       "      <td>US</td>\n",
       "      <td>100</td>\n",
       "      <td>US</td>\n",
       "      <td>S</td>\n",
       "    </tr>\n",
       "    <tr>\n",
       "      <th>3</th>\n",
       "      <td>2023</td>\n",
       "      <td>SE</td>\n",
       "      <td>FT</td>\n",
       "      <td>Data Scientist</td>\n",
       "      <td>175000</td>\n",
       "      <td>USD</td>\n",
       "      <td>175000</td>\n",
       "      <td>CA</td>\n",
       "      <td>100</td>\n",
       "      <td>CA</td>\n",
       "      <td>M</td>\n",
       "    </tr>\n",
       "    <tr>\n",
       "      <th>4</th>\n",
       "      <td>2023</td>\n",
       "      <td>SE</td>\n",
       "      <td>FT</td>\n",
       "      <td>Data Scientist</td>\n",
       "      <td>120000</td>\n",
       "      <td>USD</td>\n",
       "      <td>120000</td>\n",
       "      <td>CA</td>\n",
       "      <td>100</td>\n",
       "      <td>CA</td>\n",
       "      <td>M</td>\n",
       "    </tr>\n",
       "    <tr>\n",
       "      <th>...</th>\n",
       "      <td>...</td>\n",
       "      <td>...</td>\n",
       "      <td>...</td>\n",
       "      <td>...</td>\n",
       "      <td>...</td>\n",
       "      <td>...</td>\n",
       "      <td>...</td>\n",
       "      <td>...</td>\n",
       "      <td>...</td>\n",
       "      <td>...</td>\n",
       "      <td>...</td>\n",
       "    </tr>\n",
       "    <tr>\n",
       "      <th>3750</th>\n",
       "      <td>2020</td>\n",
       "      <td>SE</td>\n",
       "      <td>FT</td>\n",
       "      <td>Data Scientist</td>\n",
       "      <td>412000</td>\n",
       "      <td>USD</td>\n",
       "      <td>412000</td>\n",
       "      <td>US</td>\n",
       "      <td>100</td>\n",
       "      <td>US</td>\n",
       "      <td>L</td>\n",
       "    </tr>\n",
       "    <tr>\n",
       "      <th>3751</th>\n",
       "      <td>2021</td>\n",
       "      <td>MI</td>\n",
       "      <td>FT</td>\n",
       "      <td>Principal Data Scientist</td>\n",
       "      <td>151000</td>\n",
       "      <td>USD</td>\n",
       "      <td>151000</td>\n",
       "      <td>US</td>\n",
       "      <td>100</td>\n",
       "      <td>US</td>\n",
       "      <td>L</td>\n",
       "    </tr>\n",
       "    <tr>\n",
       "      <th>3752</th>\n",
       "      <td>2020</td>\n",
       "      <td>EN</td>\n",
       "      <td>FT</td>\n",
       "      <td>Data Scientist</td>\n",
       "      <td>105000</td>\n",
       "      <td>USD</td>\n",
       "      <td>105000</td>\n",
       "      <td>US</td>\n",
       "      <td>100</td>\n",
       "      <td>US</td>\n",
       "      <td>S</td>\n",
       "    </tr>\n",
       "    <tr>\n",
       "      <th>3753</th>\n",
       "      <td>2020</td>\n",
       "      <td>EN</td>\n",
       "      <td>CT</td>\n",
       "      <td>Business Data Analyst</td>\n",
       "      <td>100000</td>\n",
       "      <td>USD</td>\n",
       "      <td>100000</td>\n",
       "      <td>US</td>\n",
       "      <td>100</td>\n",
       "      <td>US</td>\n",
       "      <td>L</td>\n",
       "    </tr>\n",
       "    <tr>\n",
       "      <th>3754</th>\n",
       "      <td>2021</td>\n",
       "      <td>SE</td>\n",
       "      <td>FT</td>\n",
       "      <td>Data Science Manager</td>\n",
       "      <td>7000000</td>\n",
       "      <td>INR</td>\n",
       "      <td>94665</td>\n",
       "      <td>IN</td>\n",
       "      <td>50</td>\n",
       "      <td>IN</td>\n",
       "      <td>L</td>\n",
       "    </tr>\n",
       "  </tbody>\n",
       "</table>\n",
       "<p>3755 rows × 11 columns</p>\n",
       "</div>"
      ],
      "text/plain": [
       "      work_year experience_level employment_type                 job_title  \\\n",
       "0          2023               SE              FT  Principal Data Scientist   \n",
       "1          2023               MI              CT               ML Engineer   \n",
       "2          2023               MI              CT               ML Engineer   \n",
       "3          2023               SE              FT            Data Scientist   \n",
       "4          2023               SE              FT            Data Scientist   \n",
       "...         ...              ...             ...                       ...   \n",
       "3750       2020               SE              FT            Data Scientist   \n",
       "3751       2021               MI              FT  Principal Data Scientist   \n",
       "3752       2020               EN              FT            Data Scientist   \n",
       "3753       2020               EN              CT     Business Data Analyst   \n",
       "3754       2021               SE              FT      Data Science Manager   \n",
       "\n",
       "       salary salary_currency  salary_in_usd employee_residence  remote_ratio  \\\n",
       "0       80000             EUR          85847                 ES           100   \n",
       "1       30000             USD          30000                 US           100   \n",
       "2       25500             USD          25500                 US           100   \n",
       "3      175000             USD         175000                 CA           100   \n",
       "4      120000             USD         120000                 CA           100   \n",
       "...       ...             ...            ...                ...           ...   \n",
       "3750   412000             USD         412000                 US           100   \n",
       "3751   151000             USD         151000                 US           100   \n",
       "3752   105000             USD         105000                 US           100   \n",
       "3753   100000             USD         100000                 US           100   \n",
       "3754  7000000             INR          94665                 IN            50   \n",
       "\n",
       "     company_location company_size  \n",
       "0                  ES            L  \n",
       "1                  US            S  \n",
       "2                  US            S  \n",
       "3                  CA            M  \n",
       "4                  CA            M  \n",
       "...               ...          ...  \n",
       "3750               US            L  \n",
       "3751               US            L  \n",
       "3752               US            S  \n",
       "3753               US            L  \n",
       "3754               IN            L  \n",
       "\n",
       "[3755 rows x 11 columns]"
      ]
     },
     "execution_count": 2,
     "metadata": {},
     "output_type": "execute_result"
    }
   ],
   "source": [
    "# create table contains salary data\n",
    "df = pd.read_csv('/kaggle/input/data-science-salaries-2023/ds_salaries.csv')\n",
    "df"
   ]
  },
  {
   "cell_type": "markdown",
   "id": "62b5a514",
   "metadata": {
    "papermill": {
     "duration": 0.005559,
     "end_time": "2023-06-06T15:37:46.016095",
     "exception": false,
     "start_time": "2023-06-06T15:37:46.010536",
     "status": "completed"
    },
    "tags": []
   },
   "source": [
    "# **EDA**"
   ]
  },
  {
   "cell_type": "markdown",
   "id": "3daf0c13",
   "metadata": {
    "papermill": {
     "duration": 0.005408,
     "end_time": "2023-06-06T15:37:46.027243",
     "exception": false,
     "start_time": "2023-06-06T15:37:46.021835",
     "status": "completed"
    },
    "tags": []
   },
   "source": [
    "**Deifinition for each column**\n",
    "* work_year: The year the salary was paid.\n",
    "* experience_level: The experience level in the job during the year\n",
    "* employment_type: The type of employment for the role\n",
    "* job_title: The role worked in during the year.\n",
    "* salary: The total gross salary amount paid.\n",
    "* salary_currency: The currency of the salary paid as an ISO 4217 currency code.\n",
    "* salaryinusd: The salary in USD\n",
    "* employee_residence: Employee's primary country of residence in during the work year as an ISO 3166 country code.\n",
    "* remote_ratio: The overall amount of work done remotely\n",
    "* company_location: The country of the employer's main office or contracting branch\n",
    "* company_size: The median number of people that worked for the company during the year"
   ]
  },
  {
   "cell_type": "code",
   "execution_count": 3,
   "id": "32e156c7",
   "metadata": {
    "execution": {
     "iopub.execute_input": "2023-06-06T15:37:46.041164Z",
     "iopub.status.busy": "2023-06-06T15:37:46.040838Z",
     "iopub.status.idle": "2023-06-06T15:37:46.053463Z",
     "shell.execute_reply": "2023-06-06T15:37:46.052646Z"
    },
    "papermill": {
     "duration": 0.022821,
     "end_time": "2023-06-06T15:37:46.055631",
     "exception": false,
     "start_time": "2023-06-06T15:37:46.032810",
     "status": "completed"
    },
    "tags": []
   },
   "outputs": [
    {
     "data": {
      "text/html": [
       "<div>\n",
       "<style scoped>\n",
       "    .dataframe tbody tr th:only-of-type {\n",
       "        vertical-align: middle;\n",
       "    }\n",
       "\n",
       "    .dataframe tbody tr th {\n",
       "        vertical-align: top;\n",
       "    }\n",
       "\n",
       "    .dataframe thead th {\n",
       "        text-align: right;\n",
       "    }\n",
       "</style>\n",
       "<table border=\"1\" class=\"dataframe\">\n",
       "  <thead>\n",
       "    <tr style=\"text-align: right;\">\n",
       "      <th></th>\n",
       "      <th>work_year</th>\n",
       "      <th>experience_level</th>\n",
       "      <th>employment_type</th>\n",
       "      <th>job_title</th>\n",
       "      <th>salary</th>\n",
       "      <th>salary_currency</th>\n",
       "      <th>salary_in_usd</th>\n",
       "      <th>employee_residence</th>\n",
       "      <th>remote_ratio</th>\n",
       "      <th>company_location</th>\n",
       "      <th>company_size</th>\n",
       "    </tr>\n",
       "  </thead>\n",
       "  <tbody>\n",
       "    <tr>\n",
       "      <th>0</th>\n",
       "      <td>2023</td>\n",
       "      <td>SE</td>\n",
       "      <td>FT</td>\n",
       "      <td>Principal Data Scientist</td>\n",
       "      <td>80000</td>\n",
       "      <td>EUR</td>\n",
       "      <td>85847</td>\n",
       "      <td>ES</td>\n",
       "      <td>100</td>\n",
       "      <td>ES</td>\n",
       "      <td>L</td>\n",
       "    </tr>\n",
       "    <tr>\n",
       "      <th>1</th>\n",
       "      <td>2023</td>\n",
       "      <td>MI</td>\n",
       "      <td>CT</td>\n",
       "      <td>ML Engineer</td>\n",
       "      <td>30000</td>\n",
       "      <td>USD</td>\n",
       "      <td>30000</td>\n",
       "      <td>US</td>\n",
       "      <td>100</td>\n",
       "      <td>US</td>\n",
       "      <td>S</td>\n",
       "    </tr>\n",
       "    <tr>\n",
       "      <th>2</th>\n",
       "      <td>2023</td>\n",
       "      <td>MI</td>\n",
       "      <td>CT</td>\n",
       "      <td>ML Engineer</td>\n",
       "      <td>25500</td>\n",
       "      <td>USD</td>\n",
       "      <td>25500</td>\n",
       "      <td>US</td>\n",
       "      <td>100</td>\n",
       "      <td>US</td>\n",
       "      <td>S</td>\n",
       "    </tr>\n",
       "    <tr>\n",
       "      <th>3</th>\n",
       "      <td>2023</td>\n",
       "      <td>SE</td>\n",
       "      <td>FT</td>\n",
       "      <td>Data Scientist</td>\n",
       "      <td>175000</td>\n",
       "      <td>USD</td>\n",
       "      <td>175000</td>\n",
       "      <td>CA</td>\n",
       "      <td>100</td>\n",
       "      <td>CA</td>\n",
       "      <td>M</td>\n",
       "    </tr>\n",
       "    <tr>\n",
       "      <th>4</th>\n",
       "      <td>2023</td>\n",
       "      <td>SE</td>\n",
       "      <td>FT</td>\n",
       "      <td>Data Scientist</td>\n",
       "      <td>120000</td>\n",
       "      <td>USD</td>\n",
       "      <td>120000</td>\n",
       "      <td>CA</td>\n",
       "      <td>100</td>\n",
       "      <td>CA</td>\n",
       "      <td>M</td>\n",
       "    </tr>\n",
       "  </tbody>\n",
       "</table>\n",
       "</div>"
      ],
      "text/plain": [
       "   work_year experience_level employment_type                 job_title  \\\n",
       "0       2023               SE              FT  Principal Data Scientist   \n",
       "1       2023               MI              CT               ML Engineer   \n",
       "2       2023               MI              CT               ML Engineer   \n",
       "3       2023               SE              FT            Data Scientist   \n",
       "4       2023               SE              FT            Data Scientist   \n",
       "\n",
       "   salary salary_currency  salary_in_usd employee_residence  remote_ratio  \\\n",
       "0   80000             EUR          85847                 ES           100   \n",
       "1   30000             USD          30000                 US           100   \n",
       "2   25500             USD          25500                 US           100   \n",
       "3  175000             USD         175000                 CA           100   \n",
       "4  120000             USD         120000                 CA           100   \n",
       "\n",
       "  company_location company_size  \n",
       "0               ES            L  \n",
       "1               US            S  \n",
       "2               US            S  \n",
       "3               CA            M  \n",
       "4               CA            M  "
      ]
     },
     "execution_count": 3,
     "metadata": {},
     "output_type": "execute_result"
    }
   ],
   "source": [
    "# showing first 5 rows of dataset \n",
    "df.head()"
   ]
  },
  {
   "cell_type": "code",
   "execution_count": 4,
   "id": "a621798f",
   "metadata": {
    "execution": {
     "iopub.execute_input": "2023-06-06T15:37:46.068409Z",
     "iopub.status.busy": "2023-06-06T15:37:46.068136Z",
     "iopub.status.idle": "2023-06-06T15:37:46.073653Z",
     "shell.execute_reply": "2023-06-06T15:37:46.072749Z"
    },
    "papermill": {
     "duration": 0.014075,
     "end_time": "2023-06-06T15:37:46.075502",
     "exception": false,
     "start_time": "2023-06-06T15:37:46.061427",
     "status": "completed"
    },
    "tags": []
   },
   "outputs": [
    {
     "data": {
      "text/plain": [
       "(3755, 11)"
      ]
     },
     "execution_count": 4,
     "metadata": {},
     "output_type": "execute_result"
    }
   ],
   "source": [
    "# Examine number of row and column\n",
    "df.shape"
   ]
  },
  {
   "cell_type": "code",
   "execution_count": 5,
   "id": "48a65db3",
   "metadata": {
    "execution": {
     "iopub.execute_input": "2023-06-06T15:37:46.088561Z",
     "iopub.status.busy": "2023-06-06T15:37:46.088287Z",
     "iopub.status.idle": "2023-06-06T15:37:46.109454Z",
     "shell.execute_reply": "2023-06-06T15:37:46.108483Z"
    },
    "papermill": {
     "duration": 0.030098,
     "end_time": "2023-06-06T15:37:46.111598",
     "exception": false,
     "start_time": "2023-06-06T15:37:46.081500",
     "status": "completed"
    },
    "tags": []
   },
   "outputs": [
    {
     "name": "stdout",
     "output_type": "stream",
     "text": [
      "<class 'pandas.core.frame.DataFrame'>\n",
      "RangeIndex: 3755 entries, 0 to 3754\n",
      "Data columns (total 11 columns):\n",
      " #   Column              Non-Null Count  Dtype \n",
      "---  ------              --------------  ----- \n",
      " 0   work_year           3755 non-null   int64 \n",
      " 1   experience_level    3755 non-null   object\n",
      " 2   employment_type     3755 non-null   object\n",
      " 3   job_title           3755 non-null   object\n",
      " 4   salary              3755 non-null   int64 \n",
      " 5   salary_currency     3755 non-null   object\n",
      " 6   salary_in_usd       3755 non-null   int64 \n",
      " 7   employee_residence  3755 non-null   object\n",
      " 8   remote_ratio        3755 non-null   int64 \n",
      " 9   company_location    3755 non-null   object\n",
      " 10  company_size        3755 non-null   object\n",
      "dtypes: int64(4), object(7)\n",
      "memory usage: 322.8+ KB\n"
     ]
    }
   ],
   "source": [
    "# checking data type and null value\n",
    "df.info()"
   ]
  },
  {
   "cell_type": "code",
   "execution_count": 6,
   "id": "31b34f26",
   "metadata": {
    "execution": {
     "iopub.execute_input": "2023-06-06T15:37:46.125261Z",
     "iopub.status.busy": "2023-06-06T15:37:46.124955Z",
     "iopub.status.idle": "2023-06-06T15:37:46.147030Z",
     "shell.execute_reply": "2023-06-06T15:37:46.145946Z"
    },
    "papermill": {
     "duration": 0.031197,
     "end_time": "2023-06-06T15:37:46.148996",
     "exception": false,
     "start_time": "2023-06-06T15:37:46.117799",
     "status": "completed"
    },
    "tags": []
   },
   "outputs": [
    {
     "data": {
      "text/html": [
       "<div>\n",
       "<style scoped>\n",
       "    .dataframe tbody tr th:only-of-type {\n",
       "        vertical-align: middle;\n",
       "    }\n",
       "\n",
       "    .dataframe tbody tr th {\n",
       "        vertical-align: top;\n",
       "    }\n",
       "\n",
       "    .dataframe thead th {\n",
       "        text-align: right;\n",
       "    }\n",
       "</style>\n",
       "<table border=\"1\" class=\"dataframe\">\n",
       "  <thead>\n",
       "    <tr style=\"text-align: right;\">\n",
       "      <th></th>\n",
       "      <th>work_year</th>\n",
       "      <th>salary</th>\n",
       "      <th>salary_in_usd</th>\n",
       "      <th>remote_ratio</th>\n",
       "    </tr>\n",
       "  </thead>\n",
       "  <tbody>\n",
       "    <tr>\n",
       "      <th>count</th>\n",
       "      <td>3755.000000</td>\n",
       "      <td>3.755000e+03</td>\n",
       "      <td>3755.000000</td>\n",
       "      <td>3755.000000</td>\n",
       "    </tr>\n",
       "    <tr>\n",
       "      <th>mean</th>\n",
       "      <td>2022.373635</td>\n",
       "      <td>1.906956e+05</td>\n",
       "      <td>137570.389880</td>\n",
       "      <td>46.271638</td>\n",
       "    </tr>\n",
       "    <tr>\n",
       "      <th>std</th>\n",
       "      <td>0.691448</td>\n",
       "      <td>6.716765e+05</td>\n",
       "      <td>63055.625278</td>\n",
       "      <td>48.589050</td>\n",
       "    </tr>\n",
       "    <tr>\n",
       "      <th>min</th>\n",
       "      <td>2020.000000</td>\n",
       "      <td>6.000000e+03</td>\n",
       "      <td>5132.000000</td>\n",
       "      <td>0.000000</td>\n",
       "    </tr>\n",
       "    <tr>\n",
       "      <th>25%</th>\n",
       "      <td>2022.000000</td>\n",
       "      <td>1.000000e+05</td>\n",
       "      <td>95000.000000</td>\n",
       "      <td>0.000000</td>\n",
       "    </tr>\n",
       "    <tr>\n",
       "      <th>50%</th>\n",
       "      <td>2022.000000</td>\n",
       "      <td>1.380000e+05</td>\n",
       "      <td>135000.000000</td>\n",
       "      <td>0.000000</td>\n",
       "    </tr>\n",
       "    <tr>\n",
       "      <th>75%</th>\n",
       "      <td>2023.000000</td>\n",
       "      <td>1.800000e+05</td>\n",
       "      <td>175000.000000</td>\n",
       "      <td>100.000000</td>\n",
       "    </tr>\n",
       "    <tr>\n",
       "      <th>max</th>\n",
       "      <td>2023.000000</td>\n",
       "      <td>3.040000e+07</td>\n",
       "      <td>450000.000000</td>\n",
       "      <td>100.000000</td>\n",
       "    </tr>\n",
       "  </tbody>\n",
       "</table>\n",
       "</div>"
      ],
      "text/plain": [
       "         work_year        salary  salary_in_usd  remote_ratio\n",
       "count  3755.000000  3.755000e+03    3755.000000   3755.000000\n",
       "mean   2022.373635  1.906956e+05  137570.389880     46.271638\n",
       "std       0.691448  6.716765e+05   63055.625278     48.589050\n",
       "min    2020.000000  6.000000e+03    5132.000000      0.000000\n",
       "25%    2022.000000  1.000000e+05   95000.000000      0.000000\n",
       "50%    2022.000000  1.380000e+05  135000.000000      0.000000\n",
       "75%    2023.000000  1.800000e+05  175000.000000    100.000000\n",
       "max    2023.000000  3.040000e+07  450000.000000    100.000000"
      ]
     },
     "execution_count": 6,
     "metadata": {},
     "output_type": "execute_result"
    }
   ],
   "source": [
    "# statistic summary for numeric value\n",
    "df.describe()"
   ]
  },
  {
   "cell_type": "code",
   "execution_count": 7,
   "id": "e3ed5ed3",
   "metadata": {
    "execution": {
     "iopub.execute_input": "2023-06-06T15:37:46.162510Z",
     "iopub.status.busy": "2023-06-06T15:37:46.162209Z",
     "iopub.status.idle": "2023-06-06T15:37:46.185700Z",
     "shell.execute_reply": "2023-06-06T15:37:46.184796Z"
    },
    "papermill": {
     "duration": 0.032368,
     "end_time": "2023-06-06T15:37:46.187591",
     "exception": false,
     "start_time": "2023-06-06T15:37:46.155223",
     "status": "completed"
    },
    "tags": []
   },
   "outputs": [
    {
     "data": {
      "text/html": [
       "<div>\n",
       "<style scoped>\n",
       "    .dataframe tbody tr th:only-of-type {\n",
       "        vertical-align: middle;\n",
       "    }\n",
       "\n",
       "    .dataframe tbody tr th {\n",
       "        vertical-align: top;\n",
       "    }\n",
       "\n",
       "    .dataframe thead th {\n",
       "        text-align: right;\n",
       "    }\n",
       "</style>\n",
       "<table border=\"1\" class=\"dataframe\">\n",
       "  <thead>\n",
       "    <tr style=\"text-align: right;\">\n",
       "      <th></th>\n",
       "      <th>experience_level</th>\n",
       "      <th>employment_type</th>\n",
       "      <th>job_title</th>\n",
       "      <th>salary_currency</th>\n",
       "      <th>employee_residence</th>\n",
       "      <th>company_location</th>\n",
       "      <th>company_size</th>\n",
       "    </tr>\n",
       "  </thead>\n",
       "  <tbody>\n",
       "    <tr>\n",
       "      <th>count</th>\n",
       "      <td>3755</td>\n",
       "      <td>3755</td>\n",
       "      <td>3755</td>\n",
       "      <td>3755</td>\n",
       "      <td>3755</td>\n",
       "      <td>3755</td>\n",
       "      <td>3755</td>\n",
       "    </tr>\n",
       "    <tr>\n",
       "      <th>unique</th>\n",
       "      <td>4</td>\n",
       "      <td>4</td>\n",
       "      <td>93</td>\n",
       "      <td>20</td>\n",
       "      <td>78</td>\n",
       "      <td>72</td>\n",
       "      <td>3</td>\n",
       "    </tr>\n",
       "    <tr>\n",
       "      <th>top</th>\n",
       "      <td>SE</td>\n",
       "      <td>FT</td>\n",
       "      <td>Data Engineer</td>\n",
       "      <td>USD</td>\n",
       "      <td>US</td>\n",
       "      <td>US</td>\n",
       "      <td>M</td>\n",
       "    </tr>\n",
       "    <tr>\n",
       "      <th>freq</th>\n",
       "      <td>2516</td>\n",
       "      <td>3718</td>\n",
       "      <td>1040</td>\n",
       "      <td>3224</td>\n",
       "      <td>3004</td>\n",
       "      <td>3040</td>\n",
       "      <td>3153</td>\n",
       "    </tr>\n",
       "  </tbody>\n",
       "</table>\n",
       "</div>"
      ],
      "text/plain": [
       "       experience_level employment_type      job_title salary_currency  \\\n",
       "count              3755            3755           3755            3755   \n",
       "unique                4               4             93              20   \n",
       "top                  SE              FT  Data Engineer             USD   \n",
       "freq               2516            3718           1040            3224   \n",
       "\n",
       "       employee_residence company_location company_size  \n",
       "count                3755             3755         3755  \n",
       "unique                 78               72            3  \n",
       "top                    US               US            M  \n",
       "freq                 3004             3040         3153  "
      ]
     },
     "execution_count": 7,
     "metadata": {},
     "output_type": "execute_result"
    }
   ],
   "source": [
    "# statistic summary for non-numeric value\n",
    "df.describe(include = 'object')"
   ]
  },
  {
   "cell_type": "code",
   "execution_count": 8,
   "id": "c94a1dc1",
   "metadata": {
    "execution": {
     "iopub.execute_input": "2023-06-06T15:37:46.201442Z",
     "iopub.status.busy": "2023-06-06T15:37:46.201155Z",
     "iopub.status.idle": "2023-06-06T15:37:46.207734Z",
     "shell.execute_reply": "2023-06-06T15:37:46.206941Z"
    },
    "papermill": {
     "duration": 0.015475,
     "end_time": "2023-06-06T15:37:46.209509",
     "exception": false,
     "start_time": "2023-06-06T15:37:46.194034",
     "status": "completed"
    },
    "tags": []
   },
   "outputs": [
    {
     "data": {
      "text/plain": [
       "0      1923\n",
       "100    1643\n",
       "50      189\n",
       "Name: remote_ratio, dtype: int64"
      ]
     },
     "execution_count": 8,
     "metadata": {},
     "output_type": "execute_result"
    }
   ],
   "source": [
    "# to see number of unique value for remote ratio column\n",
    "df['remote_ratio'].value_counts()"
   ]
  },
  {
   "cell_type": "code",
   "execution_count": 9,
   "id": "e12968db",
   "metadata": {
    "execution": {
     "iopub.execute_input": "2023-06-06T15:37:46.223813Z",
     "iopub.status.busy": "2023-06-06T15:37:46.223279Z",
     "iopub.status.idle": "2023-06-06T15:37:46.229250Z",
     "shell.execute_reply": "2023-06-06T15:37:46.228647Z"
    },
    "papermill": {
     "duration": 0.014945,
     "end_time": "2023-06-06T15:37:46.230924",
     "exception": false,
     "start_time": "2023-06-06T15:37:46.215979",
     "status": "completed"
    },
    "tags": []
   },
   "outputs": [
    {
     "data": {
      "text/plain": [
       "SE    2516\n",
       "MI     805\n",
       "EN     320\n",
       "EX     114\n",
       "Name: experience_level, dtype: int64"
      ]
     },
     "execution_count": 9,
     "metadata": {},
     "output_type": "execute_result"
    }
   ],
   "source": [
    "# to see number of unique value for experience level column\n",
    "df['experience_level'].value_counts()"
   ]
  },
  {
   "cell_type": "code",
   "execution_count": 10,
   "id": "80e4631e",
   "metadata": {
    "execution": {
     "iopub.execute_input": "2023-06-06T15:37:46.245449Z",
     "iopub.status.busy": "2023-06-06T15:37:46.244952Z",
     "iopub.status.idle": "2023-06-06T15:37:46.251494Z",
     "shell.execute_reply": "2023-06-06T15:37:46.250631Z"
    },
    "papermill": {
     "duration": 0.01583,
     "end_time": "2023-06-06T15:37:46.253321",
     "exception": false,
     "start_time": "2023-06-06T15:37:46.237491",
     "status": "completed"
    },
    "tags": []
   },
   "outputs": [
    {
     "data": {
      "text/plain": [
       "FT    3718\n",
       "PT      17\n",
       "CT      10\n",
       "FL      10\n",
       "Name: employment_type, dtype: int64"
      ]
     },
     "execution_count": 10,
     "metadata": {},
     "output_type": "execute_result"
    }
   ],
   "source": [
    "# to see number of unique value for employment type column\n",
    "df['employment_type'].value_counts()"
   ]
  },
  {
   "cell_type": "code",
   "execution_count": 11,
   "id": "98fcc6c8",
   "metadata": {
    "execution": {
     "iopub.execute_input": "2023-06-06T15:37:46.268057Z",
     "iopub.status.busy": "2023-06-06T15:37:46.267412Z",
     "iopub.status.idle": "2023-06-06T15:37:46.274896Z",
     "shell.execute_reply": "2023-06-06T15:37:46.273984Z"
    },
    "papermill": {
     "duration": 0.016751,
     "end_time": "2023-06-06T15:37:46.276672",
     "exception": false,
     "start_time": "2023-06-06T15:37:46.259921",
     "status": "completed"
    },
    "tags": []
   },
   "outputs": [
    {
     "data": {
      "text/plain": [
       "M    3153\n",
       "L     454\n",
       "S     148\n",
       "Name: company_size, dtype: int64"
      ]
     },
     "execution_count": 11,
     "metadata": {},
     "output_type": "execute_result"
    }
   ],
   "source": [
    "# to see number of unique value for company size column\n",
    "df['company_size'].value_counts()"
   ]
  },
  {
   "cell_type": "code",
   "execution_count": 12,
   "id": "4f7245ce",
   "metadata": {
    "execution": {
     "iopub.execute_input": "2023-06-06T15:37:46.291668Z",
     "iopub.status.busy": "2023-06-06T15:37:46.291015Z",
     "iopub.status.idle": "2023-06-06T15:37:46.295436Z",
     "shell.execute_reply": "2023-06-06T15:37:46.294497Z"
    },
    "papermill": {
     "duration": 0.013876,
     "end_time": "2023-06-06T15:37:46.297362",
     "exception": false,
     "start_time": "2023-06-06T15:37:46.283486",
     "status": "completed"
    },
    "tags": []
   },
   "outputs": [],
   "source": [
    "# create dictionary to map the data\n",
    "remote_dict = {0 : 'On-site',\n",
    "              50 : 'Hybrid',\n",
    "              100 : 'Full-remote'\n",
    "              }"
   ]
  },
  {
   "cell_type": "code",
   "execution_count": 13,
   "id": "21b5d277",
   "metadata": {
    "execution": {
     "iopub.execute_input": "2023-06-06T15:37:46.311906Z",
     "iopub.status.busy": "2023-06-06T15:37:46.311583Z",
     "iopub.status.idle": "2023-06-06T15:37:46.315855Z",
     "shell.execute_reply": "2023-06-06T15:37:46.314986Z"
    },
    "papermill": {
     "duration": 0.01356,
     "end_time": "2023-06-06T15:37:46.317637",
     "exception": false,
     "start_time": "2023-06-06T15:37:46.304077",
     "status": "completed"
    },
    "tags": []
   },
   "outputs": [],
   "source": [
    "# create dictionary to map the data\n",
    "exp_dict = {'SE' : 'Senior-level',\n",
    "           'MI' : 'Mid-level',\n",
    "           'EN' : 'Entry-level',\n",
    "           'EX' : 'Executive-level'\n",
    "           }"
   ]
  },
  {
   "cell_type": "code",
   "execution_count": 14,
   "id": "50136e45",
   "metadata": {
    "execution": {
     "iopub.execute_input": "2023-06-06T15:37:46.332771Z",
     "iopub.status.busy": "2023-06-06T15:37:46.332311Z",
     "iopub.status.idle": "2023-06-06T15:37:46.335814Z",
     "shell.execute_reply": "2023-06-06T15:37:46.335091Z"
    },
    "papermill": {
     "duration": 0.012997,
     "end_time": "2023-06-06T15:37:46.337506",
     "exception": false,
     "start_time": "2023-06-06T15:37:46.324509",
     "status": "completed"
    },
    "tags": []
   },
   "outputs": [],
   "source": [
    "# create dictionary to map the data\n",
    "contract_dict = {'FT' : 'Full time',\n",
    "                'PT' : 'Part time',\n",
    "                'CT' : 'Contractor',\n",
    "                'FL' : 'Freelancer'\n",
    "                }"
   ]
  },
  {
   "cell_type": "code",
   "execution_count": 15,
   "id": "5e0ede5e",
   "metadata": {
    "execution": {
     "iopub.execute_input": "2023-06-06T15:37:46.352267Z",
     "iopub.status.busy": "2023-06-06T15:37:46.351804Z",
     "iopub.status.idle": "2023-06-06T15:37:46.355251Z",
     "shell.execute_reply": "2023-06-06T15:37:46.354651Z"
    },
    "papermill": {
     "duration": 0.01276,
     "end_time": "2023-06-06T15:37:46.356930",
     "exception": false,
     "start_time": "2023-06-06T15:37:46.344170",
     "status": "completed"
    },
    "tags": []
   },
   "outputs": [],
   "source": [
    "# create dictionary to map the data\n",
    "company_dict = {'S' : 'Small',\n",
    "                'M' : 'Medium',\n",
    "                'L' : 'Large'\n",
    "                }"
   ]
  },
  {
   "cell_type": "code",
   "execution_count": 16,
   "id": "e43a725d",
   "metadata": {
    "execution": {
     "iopub.execute_input": "2023-06-06T15:37:46.371698Z",
     "iopub.status.busy": "2023-06-06T15:37:46.371222Z",
     "iopub.status.idle": "2023-06-06T15:37:46.376232Z",
     "shell.execute_reply": "2023-06-06T15:37:46.375632Z"
    },
    "papermill": {
     "duration": 0.014189,
     "end_time": "2023-06-06T15:37:46.377908",
     "exception": false,
     "start_time": "2023-06-06T15:37:46.363719",
     "status": "completed"
    },
    "tags": []
   },
   "outputs": [],
   "source": [
    "# replace value for experience_level\n",
    "df.experience_level = df.experience_level.map(exp_dict)"
   ]
  },
  {
   "cell_type": "code",
   "execution_count": 17,
   "id": "5ae32d82",
   "metadata": {
    "execution": {
     "iopub.execute_input": "2023-06-06T15:37:46.392680Z",
     "iopub.status.busy": "2023-06-06T15:37:46.392039Z",
     "iopub.status.idle": "2023-06-06T15:37:46.397018Z",
     "shell.execute_reply": "2023-06-06T15:37:46.396383Z"
    },
    "papermill": {
     "duration": 0.014099,
     "end_time": "2023-06-06T15:37:46.398690",
     "exception": false,
     "start_time": "2023-06-06T15:37:46.384591",
     "status": "completed"
    },
    "tags": []
   },
   "outputs": [],
   "source": [
    "# replace value for employment_type\n",
    "df.employment_type = df.employment_type.map(contract_dict)"
   ]
  },
  {
   "cell_type": "code",
   "execution_count": 18,
   "id": "a9e220c0",
   "metadata": {
    "execution": {
     "iopub.execute_input": "2023-06-06T15:37:46.413802Z",
     "iopub.status.busy": "2023-06-06T15:37:46.413295Z",
     "iopub.status.idle": "2023-06-06T15:37:46.418175Z",
     "shell.execute_reply": "2023-06-06T15:37:46.417341Z"
    },
    "papermill": {
     "duration": 0.014411,
     "end_time": "2023-06-06T15:37:46.419944",
     "exception": false,
     "start_time": "2023-06-06T15:37:46.405533",
     "status": "completed"
    },
    "tags": []
   },
   "outputs": [],
   "source": [
    "# replace value for remote_ratio\n",
    "df.remote_ratio = df.remote_ratio.map(remote_dict)"
   ]
  },
  {
   "cell_type": "code",
   "execution_count": 19,
   "id": "ae378331",
   "metadata": {
    "execution": {
     "iopub.execute_input": "2023-06-06T15:37:46.434841Z",
     "iopub.status.busy": "2023-06-06T15:37:46.434371Z",
     "iopub.status.idle": "2023-06-06T15:37:46.439389Z",
     "shell.execute_reply": "2023-06-06T15:37:46.438742Z"
    },
    "papermill": {
     "duration": 0.014394,
     "end_time": "2023-06-06T15:37:46.441103",
     "exception": false,
     "start_time": "2023-06-06T15:37:46.426709",
     "status": "completed"
    },
    "tags": []
   },
   "outputs": [],
   "source": [
    "# replace value for company_size\n",
    "df.company_size = df.company_size.map(company_dict)"
   ]
  },
  {
   "cell_type": "code",
   "execution_count": 20,
   "id": "fd822c89",
   "metadata": {
    "execution": {
     "iopub.execute_input": "2023-06-06T15:37:46.455757Z",
     "iopub.status.busy": "2023-06-06T15:37:46.455460Z",
     "iopub.status.idle": "2023-06-06T15:37:46.468863Z",
     "shell.execute_reply": "2023-06-06T15:37:46.467842Z"
    },
    "papermill": {
     "duration": 0.022784,
     "end_time": "2023-06-06T15:37:46.470759",
     "exception": false,
     "start_time": "2023-06-06T15:37:46.447975",
     "status": "completed"
    },
    "tags": []
   },
   "outputs": [
    {
     "data": {
      "text/html": [
       "<div>\n",
       "<style scoped>\n",
       "    .dataframe tbody tr th:only-of-type {\n",
       "        vertical-align: middle;\n",
       "    }\n",
       "\n",
       "    .dataframe tbody tr th {\n",
       "        vertical-align: top;\n",
       "    }\n",
       "\n",
       "    .dataframe thead th {\n",
       "        text-align: right;\n",
       "    }\n",
       "</style>\n",
       "<table border=\"1\" class=\"dataframe\">\n",
       "  <thead>\n",
       "    <tr style=\"text-align: right;\">\n",
       "      <th></th>\n",
       "      <th>work_year</th>\n",
       "      <th>experience_level</th>\n",
       "      <th>employment_type</th>\n",
       "      <th>job_title</th>\n",
       "      <th>salary</th>\n",
       "      <th>salary_currency</th>\n",
       "      <th>salary_in_usd</th>\n",
       "      <th>employee_residence</th>\n",
       "      <th>remote_ratio</th>\n",
       "      <th>company_location</th>\n",
       "      <th>company_size</th>\n",
       "    </tr>\n",
       "  </thead>\n",
       "  <tbody>\n",
       "    <tr>\n",
       "      <th>0</th>\n",
       "      <td>2023</td>\n",
       "      <td>Senior-level</td>\n",
       "      <td>Full time</td>\n",
       "      <td>Principal Data Scientist</td>\n",
       "      <td>80000</td>\n",
       "      <td>EUR</td>\n",
       "      <td>85847</td>\n",
       "      <td>ES</td>\n",
       "      <td>Full-remote</td>\n",
       "      <td>ES</td>\n",
       "      <td>Large</td>\n",
       "    </tr>\n",
       "    <tr>\n",
       "      <th>1</th>\n",
       "      <td>2023</td>\n",
       "      <td>Mid-level</td>\n",
       "      <td>Contractor</td>\n",
       "      <td>ML Engineer</td>\n",
       "      <td>30000</td>\n",
       "      <td>USD</td>\n",
       "      <td>30000</td>\n",
       "      <td>US</td>\n",
       "      <td>Full-remote</td>\n",
       "      <td>US</td>\n",
       "      <td>Small</td>\n",
       "    </tr>\n",
       "    <tr>\n",
       "      <th>2</th>\n",
       "      <td>2023</td>\n",
       "      <td>Mid-level</td>\n",
       "      <td>Contractor</td>\n",
       "      <td>ML Engineer</td>\n",
       "      <td>25500</td>\n",
       "      <td>USD</td>\n",
       "      <td>25500</td>\n",
       "      <td>US</td>\n",
       "      <td>Full-remote</td>\n",
       "      <td>US</td>\n",
       "      <td>Small</td>\n",
       "    </tr>\n",
       "    <tr>\n",
       "      <th>3</th>\n",
       "      <td>2023</td>\n",
       "      <td>Senior-level</td>\n",
       "      <td>Full time</td>\n",
       "      <td>Data Scientist</td>\n",
       "      <td>175000</td>\n",
       "      <td>USD</td>\n",
       "      <td>175000</td>\n",
       "      <td>CA</td>\n",
       "      <td>Full-remote</td>\n",
       "      <td>CA</td>\n",
       "      <td>Medium</td>\n",
       "    </tr>\n",
       "    <tr>\n",
       "      <th>4</th>\n",
       "      <td>2023</td>\n",
       "      <td>Senior-level</td>\n",
       "      <td>Full time</td>\n",
       "      <td>Data Scientist</td>\n",
       "      <td>120000</td>\n",
       "      <td>USD</td>\n",
       "      <td>120000</td>\n",
       "      <td>CA</td>\n",
       "      <td>Full-remote</td>\n",
       "      <td>CA</td>\n",
       "      <td>Medium</td>\n",
       "    </tr>\n",
       "  </tbody>\n",
       "</table>\n",
       "</div>"
      ],
      "text/plain": [
       "   work_year experience_level employment_type                 job_title  \\\n",
       "0       2023     Senior-level       Full time  Principal Data Scientist   \n",
       "1       2023        Mid-level      Contractor               ML Engineer   \n",
       "2       2023        Mid-level      Contractor               ML Engineer   \n",
       "3       2023     Senior-level       Full time            Data Scientist   \n",
       "4       2023     Senior-level       Full time            Data Scientist   \n",
       "\n",
       "   salary salary_currency  salary_in_usd employee_residence remote_ratio  \\\n",
       "0   80000             EUR          85847                 ES  Full-remote   \n",
       "1   30000             USD          30000                 US  Full-remote   \n",
       "2   25500             USD          25500                 US  Full-remote   \n",
       "3  175000             USD         175000                 CA  Full-remote   \n",
       "4  120000             USD         120000                 CA  Full-remote   \n",
       "\n",
       "  company_location company_size  \n",
       "0               ES        Large  \n",
       "1               US        Small  \n",
       "2               US        Small  \n",
       "3               CA       Medium  \n",
       "4               CA       Medium  "
      ]
     },
     "execution_count": 20,
     "metadata": {},
     "output_type": "execute_result"
    }
   ],
   "source": [
    "# checking dataset after replace values\n",
    "df.head()"
   ]
  },
  {
   "cell_type": "code",
   "execution_count": 21,
   "id": "5577e69a",
   "metadata": {
    "execution": {
     "iopub.execute_input": "2023-06-06T15:37:46.485940Z",
     "iopub.status.busy": "2023-06-06T15:37:46.485624Z",
     "iopub.status.idle": "2023-06-06T15:37:46.796275Z",
     "shell.execute_reply": "2023-06-06T15:37:46.795287Z"
    },
    "papermill": {
     "duration": 0.320533,
     "end_time": "2023-06-06T15:37:46.798317",
     "exception": false,
     "start_time": "2023-06-06T15:37:46.477784",
     "status": "completed"
    },
    "tags": []
   },
   "outputs": [
    {
     "name": "stderr",
     "output_type": "stream",
     "text": [
      "/tmp/ipykernel_20/1000928598.py:2: FutureWarning: The default value of numeric_only in DataFrameGroupBy.mean is deprecated. In a future version, numeric_only will default to False. Either specify numeric_only or select only columns which should be valid for the function.\n",
      "  df.groupby('work_year').mean()['salary_in_usd'].plot(kind = 'bar')\n"
     ]
    },
    {
     "data": {
      "text/plain": [
       "Text(0.5, 1.0, 'Salary Trend')"
      ]
     },
     "execution_count": 21,
     "metadata": {},
     "output_type": "execute_result"
    },
    {
     "data": {
      "image/png": "[encoded data removed]",
      "text/plain": [
       "<Figure size 640x480 with 1 Axes>"
      ]
     },
     "metadata": {},
     "output_type": "display_data"
    }
   ],
   "source": [
    "# a bar chart showing average salary over years\n",
    "df.groupby('work_year').mean()['salary_in_usd'].plot(kind = 'bar')\n",
    "plt.title('Salary Trend')\n"
   ]
  },
  {
   "cell_type": "code",
   "execution_count": 22,
   "id": "46aca376",
   "metadata": {
    "execution": {
     "iopub.execute_input": "2023-06-06T15:37:46.815437Z",
     "iopub.status.busy": "2023-06-06T15:37:46.815090Z",
     "iopub.status.idle": "2023-06-06T15:37:48.547690Z",
     "shell.execute_reply": "2023-06-06T15:37:48.546669Z"
    },
    "papermill": {
     "duration": 1.743805,
     "end_time": "2023-06-06T15:37:48.550082",
     "exception": false,
     "start_time": "2023-06-06T15:37:46.806277",
     "status": "completed"
    },
    "tags": []
   },
   "outputs": [],
   "source": [
    "# after clean the data \n",
    "# export to excel in order to utilize with BI tools\n",
    "df.to_excel('/kaggle/working/Salary.xlsx')"
   ]
  }
 ],
 "metadata": {
  "kernelspec": {
   "display_name": "Python 3",
   "language": "python",
   "name": "python3"
  },
  "language_info": {
   "codemirror_mode": {
    "name": "ipython",
    "version": 3
   },
   "file_extension": ".py",
   "mimetype": "text/x-python",
   "name": "python",
   "nbconvert_exporter": "python",
   "pygments_lexer": "ipython3",
   "version": "3.10.10"
  },
  "papermill": {
   "default_parameters": {},
   "duration": 12.386837,
   "end_time": "2023-06-06T15:37:49.277486",
   "environment_variables": {},
   "exception": null,
   "input_path": "__notebook__.ipynb",
   "output_path": "__notebook__.ipynb",
   "parameters": {},
   "start_time": "2023-06-06T15:37:36.890649",
   "version": "2.4.0"
  }
 },
 "nbformat": 4,
 "nbformat_minor": 5
}
