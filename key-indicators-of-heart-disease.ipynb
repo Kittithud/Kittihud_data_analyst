{
 "cells": [
  {
   "cell_type": "markdown",
   "id": "af4e4e75",
   "metadata": {
    "papermill": {
     "duration": 0.019215,
     "end_time": "2022-04-20T10:22:49.157879",
     "exception": false,
     "start_time": "2022-04-20T10:22:49.138664",
     "status": "completed"
    },
    "tags": []
   },
   "source": [
    "# Key Indicators of Heart Disease\n",
    "\n",
    "2020 annual CDC survey data of 400k adults related to their health status\n",
    "\n",
    "**What topic does the dataset cover?**\n",
    "\n",
    "According to the CDC, heart disease is one of the leading causes of death for people of most races in the US (African Americans, American Indians and Alaska Natives, and white people). About half of all Americans (47%) have at least 1 of 3 key risk factors for heart disease: high blood pressure, high cholesterol, and smoking. Other key indicator include diabetic status, obesity (high BMI), not getting enough physical activity or drinking too much alcohol. Detecting and preventing the factors that have the greatest impact on heart disease is very important in healthcare. Computational developments, in turn, allow the application of machine learning methods to detect \"patterns\" from the data that can predict a patient's condition."
   ]
  },
  {
   "cell_type": "markdown",
   "id": "abbef128",
   "metadata": {
    "papermill": {
     "duration": 0.017787,
     "end_time": "2022-04-20T10:22:49.194313",
     "exception": false,
     "start_time": "2022-04-20T10:22:49.176526",
     "status": "completed"
    },
    "tags": []
   },
   "source": [
    "**Objectives**\n",
    "* EDA on data.\n",
    "* Cleaning data for analysis.\n",
    "* Data visualization."
   ]
  },
  {
   "cell_type": "markdown",
   "id": "f5dbbbe5",
   "metadata": {
    "papermill": {
     "duration": 0.017905,
     "end_time": "2022-04-20T10:22:49.230387",
     "exception": false,
     "start_time": "2022-04-20T10:22:49.212482",
     "status": "completed"
    },
    "tags": []
   },
   "source": [
    "**Explanation of the variables of the dataset**\n",
    "1. HeartDisease : Respondents that have ever reported having coronary heart disease (CHD) or myocardial infarction (MI).\n",
    "2. BMI : Body Mass Index (BMI).\n",
    "3. Smoking : Have you smoked at least 100 cigarettes in your entire life? ( The answer Yes or No ).\n",
    "4. AlcoholDrinking : Heavy drinkers (adult men having more than 14 drinks per week and adult women having more than 7 drinks per week\n",
    "5. Stroke : (Ever told) (you had) a stroke?\n",
    "6. PhysicalHealth : Now thinking about your physical health, which includes physical illness and injury, for how many days during the past 30 days was your physical health not good? (0-30 days).\n",
    "7. MentalHealth : Thinking about your mental health, for how many days during the past 30 days was your mental health not good? (0-30 days).\n",
    "8. DiffWalking : Do you have serious difficulty walking or climbing stairs?\n",
    "9. Sex : Are you male or female?\n",
    "10. AgeCategory: Fourteen-level age category.\n",
    "11. Race : Imputed race/ethnicity value.\n",
    "12. Diabetic : (Ever told) (you had) diabetes?\n",
    "13. PhysicalActivity : Adults who reported doing physical activity or exercise during the past 30 days other than their regular job.\n",
    "14. GenHealth : Would you say that in general your health is...\n",
    "15. SleepTime : On average, how many hours of sleep do you get in a 24-hour period?\n",
    "16. Asthma : (Ever told) (you had) asthma?\n",
    "17. KidneyDisease : Not including kidney stones, bladder infection or incontinence, were you ever told you had kidney disease?\n",
    "18. SkinCancer : (Ever told) (you had) skin cancer?"
   ]
  },
  {
   "cell_type": "markdown",
   "id": "ca3df8ab",
   "metadata": {
    "papermill": {
     "duration": 0.018115,
     "end_time": "2022-04-20T10:22:49.266631",
     "exception": false,
     "start_time": "2022-04-20T10:22:49.248516",
     "status": "completed"
    },
    "tags": []
   },
   "source": [
    "**Import libraries**"
   ]
  },
  {
   "cell_type": "code",
   "execution_count": 1,
   "id": "8507d65e",
   "metadata": {
    "execution": {
     "iopub.execute_input": "2022-04-20T10:22:49.307488Z",
     "iopub.status.busy": "2022-04-20T10:22:49.306341Z",
     "iopub.status.idle": "2022-04-20T10:22:50.331087Z",
     "shell.execute_reply": "2022-04-20T10:22:50.330416Z",
     "shell.execute_reply.started": "2022-04-20T10:20:39.305342Z"
    },
    "papermill": {
     "duration": 1.046571,
     "end_time": "2022-04-20T10:22:50.331253",
     "exception": false,
     "start_time": "2022-04-20T10:22:49.284682",
     "status": "completed"
    },
    "tags": []
   },
   "outputs": [],
   "source": [
    "import pandas as pd\n",
    "import matplotlib.pyplot as plt\n",
    "import seaborn as sns"
   ]
  },
  {
   "cell_type": "markdown",
   "id": "114cebd5",
   "metadata": {
    "papermill": {
     "duration": 0.01826,
     "end_time": "2022-04-20T10:22:50.367979",
     "exception": false,
     "start_time": "2022-04-20T10:22:50.349719",
     "status": "completed"
    },
    "tags": []
   },
   "source": [
    "**Basic Exploration**"
   ]
  },
  {
   "cell_type": "markdown",
   "id": "66e8bc99",
   "metadata": {
    "papermill": {
     "duration": 0.018185,
     "end_time": "2022-04-20T10:22:50.404784",
     "exception": false,
     "start_time": "2022-04-20T10:22:50.386599",
     "status": "completed"
    },
    "tags": []
   },
   "source": [
    "* Reading the dataset"
   ]
  },
  {
   "cell_type": "code",
   "execution_count": 2,
   "id": "17380942",
   "metadata": {
    "execution": {
     "iopub.execute_input": "2022-04-20T10:22:50.447334Z",
     "iopub.status.busy": "2022-04-20T10:22:50.446563Z",
     "iopub.status.idle": "2022-04-20T10:22:51.462572Z",
     "shell.execute_reply": "2022-04-20T10:22:51.463046Z",
     "shell.execute_reply.started": "2022-04-20T10:20:39.313794Z"
    },
    "papermill": {
     "duration": 1.039461,
     "end_time": "2022-04-20T10:22:51.463201",
     "exception": false,
     "start_time": "2022-04-20T10:22:50.423740",
     "status": "completed"
    },
    "tags": []
   },
   "outputs": [
    {
     "data": {
      "text/html": [
       "<div>\n",
       "<style scoped>\n",
       "    .dataframe tbody tr th:only-of-type {\n",
       "        vertical-align: middle;\n",
       "    }\n",
       "\n",
       "    .dataframe tbody tr th {\n",
       "        vertical-align: top;\n",
       "    }\n",
       "\n",
       "    .dataframe thead th {\n",
       "        text-align: right;\n",
       "    }\n",
       "</style>\n",
       "<table border=\"1\" class=\"dataframe\">\n",
       "  <thead>\n",
       "    <tr style=\"text-align: right;\">\n",
       "      <th></th>\n",
       "      <th>HeartDisease</th>\n",
       "      <th>BMI</th>\n",
       "      <th>Smoking</th>\n",
       "      <th>AlcoholDrinking</th>\n",
       "      <th>Stroke</th>\n",
       "      <th>PhysicalHealth</th>\n",
       "      <th>MentalHealth</th>\n",
       "      <th>DiffWalking</th>\n",
       "      <th>Sex</th>\n",
       "      <th>AgeCategory</th>\n",
       "      <th>Race</th>\n",
       "      <th>Diabetic</th>\n",
       "      <th>PhysicalActivity</th>\n",
       "      <th>GenHealth</th>\n",
       "      <th>SleepTime</th>\n",
       "      <th>Asthma</th>\n",
       "      <th>KidneyDisease</th>\n",
       "      <th>SkinCancer</th>\n",
       "    </tr>\n",
       "  </thead>\n",
       "  <tbody>\n",
       "    <tr>\n",
       "      <th>0</th>\n",
       "      <td>No</td>\n",
       "      <td>16.60</td>\n",
       "      <td>Yes</td>\n",
       "      <td>No</td>\n",
       "      <td>No</td>\n",
       "      <td>3.0</td>\n",
       "      <td>30.0</td>\n",
       "      <td>No</td>\n",
       "      <td>Female</td>\n",
       "      <td>55-59</td>\n",
       "      <td>White</td>\n",
       "      <td>Yes</td>\n",
       "      <td>Yes</td>\n",
       "      <td>Very good</td>\n",
       "      <td>5.0</td>\n",
       "      <td>Yes</td>\n",
       "      <td>No</td>\n",
       "      <td>Yes</td>\n",
       "    </tr>\n",
       "    <tr>\n",
       "      <th>1</th>\n",
       "      <td>No</td>\n",
       "      <td>20.34</td>\n",
       "      <td>No</td>\n",
       "      <td>No</td>\n",
       "      <td>Yes</td>\n",
       "      <td>0.0</td>\n",
       "      <td>0.0</td>\n",
       "      <td>No</td>\n",
       "      <td>Female</td>\n",
       "      <td>80 or older</td>\n",
       "      <td>White</td>\n",
       "      <td>No</td>\n",
       "      <td>Yes</td>\n",
       "      <td>Very good</td>\n",
       "      <td>7.0</td>\n",
       "      <td>No</td>\n",
       "      <td>No</td>\n",
       "      <td>No</td>\n",
       "    </tr>\n",
       "    <tr>\n",
       "      <th>2</th>\n",
       "      <td>No</td>\n",
       "      <td>26.58</td>\n",
       "      <td>Yes</td>\n",
       "      <td>No</td>\n",
       "      <td>No</td>\n",
       "      <td>20.0</td>\n",
       "      <td>30.0</td>\n",
       "      <td>No</td>\n",
       "      <td>Male</td>\n",
       "      <td>65-69</td>\n",
       "      <td>White</td>\n",
       "      <td>Yes</td>\n",
       "      <td>Yes</td>\n",
       "      <td>Fair</td>\n",
       "      <td>8.0</td>\n",
       "      <td>Yes</td>\n",
       "      <td>No</td>\n",
       "      <td>No</td>\n",
       "    </tr>\n",
       "    <tr>\n",
       "      <th>3</th>\n",
       "      <td>No</td>\n",
       "      <td>24.21</td>\n",
       "      <td>No</td>\n",
       "      <td>No</td>\n",
       "      <td>No</td>\n",
       "      <td>0.0</td>\n",
       "      <td>0.0</td>\n",
       "      <td>No</td>\n",
       "      <td>Female</td>\n",
       "      <td>75-79</td>\n",
       "      <td>White</td>\n",
       "      <td>No</td>\n",
       "      <td>No</td>\n",
       "      <td>Good</td>\n",
       "      <td>6.0</td>\n",
       "      <td>No</td>\n",
       "      <td>No</td>\n",
       "      <td>Yes</td>\n",
       "    </tr>\n",
       "    <tr>\n",
       "      <th>4</th>\n",
       "      <td>No</td>\n",
       "      <td>23.71</td>\n",
       "      <td>No</td>\n",
       "      <td>No</td>\n",
       "      <td>No</td>\n",
       "      <td>28.0</td>\n",
       "      <td>0.0</td>\n",
       "      <td>Yes</td>\n",
       "      <td>Female</td>\n",
       "      <td>40-44</td>\n",
       "      <td>White</td>\n",
       "      <td>No</td>\n",
       "      <td>Yes</td>\n",
       "      <td>Very good</td>\n",
       "      <td>8.0</td>\n",
       "      <td>No</td>\n",
       "      <td>No</td>\n",
       "      <td>No</td>\n",
       "    </tr>\n",
       "    <tr>\n",
       "      <th>...</th>\n",
       "      <td>...</td>\n",
       "      <td>...</td>\n",
       "      <td>...</td>\n",
       "      <td>...</td>\n",
       "      <td>...</td>\n",
       "      <td>...</td>\n",
       "      <td>...</td>\n",
       "      <td>...</td>\n",
       "      <td>...</td>\n",
       "      <td>...</td>\n",
       "      <td>...</td>\n",
       "      <td>...</td>\n",
       "      <td>...</td>\n",
       "      <td>...</td>\n",
       "      <td>...</td>\n",
       "      <td>...</td>\n",
       "      <td>...</td>\n",
       "      <td>...</td>\n",
       "    </tr>\n",
       "    <tr>\n",
       "      <th>319790</th>\n",
       "      <td>Yes</td>\n",
       "      <td>27.41</td>\n",
       "      <td>Yes</td>\n",
       "      <td>No</td>\n",
       "      <td>No</td>\n",
       "      <td>7.0</td>\n",
       "      <td>0.0</td>\n",
       "      <td>Yes</td>\n",
       "      <td>Male</td>\n",
       "      <td>60-64</td>\n",
       "      <td>Hispanic</td>\n",
       "      <td>Yes</td>\n",
       "      <td>No</td>\n",
       "      <td>Fair</td>\n",
       "      <td>6.0</td>\n",
       "      <td>Yes</td>\n",
       "      <td>No</td>\n",
       "      <td>No</td>\n",
       "    </tr>\n",
       "    <tr>\n",
       "      <th>319791</th>\n",
       "      <td>No</td>\n",
       "      <td>29.84</td>\n",
       "      <td>Yes</td>\n",
       "      <td>No</td>\n",
       "      <td>No</td>\n",
       "      <td>0.0</td>\n",
       "      <td>0.0</td>\n",
       "      <td>No</td>\n",
       "      <td>Male</td>\n",
       "      <td>35-39</td>\n",
       "      <td>Hispanic</td>\n",
       "      <td>No</td>\n",
       "      <td>Yes</td>\n",
       "      <td>Very good</td>\n",
       "      <td>5.0</td>\n",
       "      <td>Yes</td>\n",
       "      <td>No</td>\n",
       "      <td>No</td>\n",
       "    </tr>\n",
       "    <tr>\n",
       "      <th>319792</th>\n",
       "      <td>No</td>\n",
       "      <td>24.24</td>\n",
       "      <td>No</td>\n",
       "      <td>No</td>\n",
       "      <td>No</td>\n",
       "      <td>0.0</td>\n",
       "      <td>0.0</td>\n",
       "      <td>No</td>\n",
       "      <td>Female</td>\n",
       "      <td>45-49</td>\n",
       "      <td>Hispanic</td>\n",
       "      <td>No</td>\n",
       "      <td>Yes</td>\n",
       "      <td>Good</td>\n",
       "      <td>6.0</td>\n",
       "      <td>No</td>\n",
       "      <td>No</td>\n",
       "      <td>No</td>\n",
       "    </tr>\n",
       "    <tr>\n",
       "      <th>319793</th>\n",
       "      <td>No</td>\n",
       "      <td>32.81</td>\n",
       "      <td>No</td>\n",
       "      <td>No</td>\n",
       "      <td>No</td>\n",
       "      <td>0.0</td>\n",
       "      <td>0.0</td>\n",
       "      <td>No</td>\n",
       "      <td>Female</td>\n",
       "      <td>25-29</td>\n",
       "      <td>Hispanic</td>\n",
       "      <td>No</td>\n",
       "      <td>No</td>\n",
       "      <td>Good</td>\n",
       "      <td>12.0</td>\n",
       "      <td>No</td>\n",
       "      <td>No</td>\n",
       "      <td>No</td>\n",
       "    </tr>\n",
       "    <tr>\n",
       "      <th>319794</th>\n",
       "      <td>No</td>\n",
       "      <td>46.56</td>\n",
       "      <td>No</td>\n",
       "      <td>No</td>\n",
       "      <td>No</td>\n",
       "      <td>0.0</td>\n",
       "      <td>0.0</td>\n",
       "      <td>No</td>\n",
       "      <td>Female</td>\n",
       "      <td>80 or older</td>\n",
       "      <td>Hispanic</td>\n",
       "      <td>No</td>\n",
       "      <td>Yes</td>\n",
       "      <td>Good</td>\n",
       "      <td>8.0</td>\n",
       "      <td>No</td>\n",
       "      <td>No</td>\n",
       "      <td>No</td>\n",
       "    </tr>\n",
       "  </tbody>\n",
       "</table>\n",
       "<p>319795 rows × 18 columns</p>\n",
       "</div>"
      ],
      "text/plain": [
       "       HeartDisease    BMI Smoking AlcoholDrinking Stroke  PhysicalHealth  \\\n",
       "0                No  16.60     Yes              No     No             3.0   \n",
       "1                No  20.34      No              No    Yes             0.0   \n",
       "2                No  26.58     Yes              No     No            20.0   \n",
       "3                No  24.21      No              No     No             0.0   \n",
       "4                No  23.71      No              No     No            28.0   \n",
       "...             ...    ...     ...             ...    ...             ...   \n",
       "319790          Yes  27.41     Yes              No     No             7.0   \n",
       "319791           No  29.84     Yes              No     No             0.0   \n",
       "319792           No  24.24      No              No     No             0.0   \n",
       "319793           No  32.81      No              No     No             0.0   \n",
       "319794           No  46.56      No              No     No             0.0   \n",
       "\n",
       "        MentalHealth DiffWalking     Sex  AgeCategory      Race Diabetic  \\\n",
       "0               30.0          No  Female        55-59     White      Yes   \n",
       "1                0.0          No  Female  80 or older     White       No   \n",
       "2               30.0          No    Male        65-69     White      Yes   \n",
       "3                0.0          No  Female        75-79     White       No   \n",
       "4                0.0         Yes  Female        40-44     White       No   \n",
       "...              ...         ...     ...          ...       ...      ...   \n",
       "319790           0.0         Yes    Male        60-64  Hispanic      Yes   \n",
       "319791           0.0          No    Male        35-39  Hispanic       No   \n",
       "319792           0.0          No  Female        45-49  Hispanic       No   \n",
       "319793           0.0          No  Female        25-29  Hispanic       No   \n",
       "319794           0.0          No  Female  80 or older  Hispanic       No   \n",
       "\n",
       "       PhysicalActivity  GenHealth  SleepTime Asthma KidneyDisease SkinCancer  \n",
       "0                   Yes  Very good        5.0    Yes            No        Yes  \n",
       "1                   Yes  Very good        7.0     No            No         No  \n",
       "2                   Yes       Fair        8.0    Yes            No         No  \n",
       "3                    No       Good        6.0     No            No        Yes  \n",
       "4                   Yes  Very good        8.0     No            No         No  \n",
       "...                 ...        ...        ...    ...           ...        ...  \n",
       "319790               No       Fair        6.0    Yes            No         No  \n",
       "319791              Yes  Very good        5.0    Yes            No         No  \n",
       "319792              Yes       Good        6.0     No            No         No  \n",
       "319793               No       Good       12.0     No            No         No  \n",
       "319794              Yes       Good        8.0     No            No         No  \n",
       "\n",
       "[319795 rows x 18 columns]"
      ]
     },
     "execution_count": 2,
     "metadata": {},
     "output_type": "execute_result"
    }
   ],
   "source": [
    "df = pd.read_csv('../input/personal-key-indicators-of-heart-disease/heart_2020_cleaned.csv')\n",
    "df"
   ]
  },
  {
   "cell_type": "code",
   "execution_count": 3,
   "id": "22bdb61a",
   "metadata": {
    "execution": {
     "iopub.execute_input": "2022-04-20T10:22:51.508451Z",
     "iopub.status.busy": "2022-04-20T10:22:51.507817Z",
     "iopub.status.idle": "2022-04-20T10:22:51.992420Z",
     "shell.execute_reply": "2022-04-20T10:22:51.992889Z",
     "shell.execute_reply.started": "2022-04-20T10:20:39.848792Z"
    },
    "papermill": {
     "duration": 0.510564,
     "end_time": "2022-04-20T10:22:51.993055",
     "exception": false,
     "start_time": "2022-04-20T10:22:51.482491",
     "status": "completed"
    },
    "tags": []
   },
   "outputs": [
    {
     "name": "stdout",
     "output_type": "stream",
     "text": [
      "<class 'pandas.core.frame.DataFrame'>\n",
      "RangeIndex: 319795 entries, 0 to 319794\n",
      "Data columns (total 18 columns):\n",
      " #   Column            Non-Null Count   Dtype  \n",
      "---  ------            --------------   -----  \n",
      " 0   HeartDisease      319795 non-null  object \n",
      " 1   BMI               319795 non-null  float64\n",
      " 2   Smoking           319795 non-null  object \n",
      " 3   AlcoholDrinking   319795 non-null  object \n",
      " 4   Stroke            319795 non-null  object \n",
      " 5   PhysicalHealth    319795 non-null  float64\n",
      " 6   MentalHealth      319795 non-null  float64\n",
      " 7   DiffWalking       319795 non-null  object \n",
      " 8   Sex               319795 non-null  object \n",
      " 9   AgeCategory       319795 non-null  object \n",
      " 10  Race              319795 non-null  object \n",
      " 11  Diabetic          319795 non-null  object \n",
      " 12  PhysicalActivity  319795 non-null  object \n",
      " 13  GenHealth         319795 non-null  object \n",
      " 14  SleepTime         319795 non-null  float64\n",
      " 15  Asthma            319795 non-null  object \n",
      " 16  KidneyDisease     319795 non-null  object \n",
      " 17  SkinCancer        319795 non-null  object \n",
      "dtypes: float64(4), object(14)\n",
      "memory usage: 43.9+ MB\n"
     ]
    }
   ],
   "source": [
    "df.info()"
   ]
  },
  {
   "cell_type": "code",
   "execution_count": 4,
   "id": "0a5c7882",
   "metadata": {
    "execution": {
     "iopub.execute_input": "2022-04-20T10:22:52.040841Z",
     "iopub.status.busy": "2022-04-20T10:22:52.040187Z",
     "iopub.status.idle": "2022-04-20T10:22:52.100501Z",
     "shell.execute_reply": "2022-04-20T10:22:52.099697Z",
     "shell.execute_reply.started": "2022-04-20T10:20:40.051801Z"
    },
    "papermill": {
     "duration": 0.088275,
     "end_time": "2022-04-20T10:22:52.100666",
     "exception": false,
     "start_time": "2022-04-20T10:22:52.012391",
     "status": "completed"
    },
    "tags": []
   },
   "outputs": [
    {
     "data": {
      "text/html": [
       "<div>\n",
       "<style scoped>\n",
       "    .dataframe tbody tr th:only-of-type {\n",
       "        vertical-align: middle;\n",
       "    }\n",
       "\n",
       "    .dataframe tbody tr th {\n",
       "        vertical-align: top;\n",
       "    }\n",
       "\n",
       "    .dataframe thead th {\n",
       "        text-align: right;\n",
       "    }\n",
       "</style>\n",
       "<table border=\"1\" class=\"dataframe\">\n",
       "  <thead>\n",
       "    <tr style=\"text-align: right;\">\n",
       "      <th></th>\n",
       "      <th>BMI</th>\n",
       "      <th>PhysicalHealth</th>\n",
       "      <th>MentalHealth</th>\n",
       "      <th>SleepTime</th>\n",
       "    </tr>\n",
       "  </thead>\n",
       "  <tbody>\n",
       "    <tr>\n",
       "      <th>count</th>\n",
       "      <td>319795.000000</td>\n",
       "      <td>319795.00000</td>\n",
       "      <td>319795.000000</td>\n",
       "      <td>319795.000000</td>\n",
       "    </tr>\n",
       "    <tr>\n",
       "      <th>mean</th>\n",
       "      <td>28.325399</td>\n",
       "      <td>3.37171</td>\n",
       "      <td>3.898366</td>\n",
       "      <td>7.097075</td>\n",
       "    </tr>\n",
       "    <tr>\n",
       "      <th>std</th>\n",
       "      <td>6.356100</td>\n",
       "      <td>7.95085</td>\n",
       "      <td>7.955235</td>\n",
       "      <td>1.436007</td>\n",
       "    </tr>\n",
       "    <tr>\n",
       "      <th>min</th>\n",
       "      <td>12.020000</td>\n",
       "      <td>0.00000</td>\n",
       "      <td>0.000000</td>\n",
       "      <td>1.000000</td>\n",
       "    </tr>\n",
       "    <tr>\n",
       "      <th>25%</th>\n",
       "      <td>24.030000</td>\n",
       "      <td>0.00000</td>\n",
       "      <td>0.000000</td>\n",
       "      <td>6.000000</td>\n",
       "    </tr>\n",
       "    <tr>\n",
       "      <th>50%</th>\n",
       "      <td>27.340000</td>\n",
       "      <td>0.00000</td>\n",
       "      <td>0.000000</td>\n",
       "      <td>7.000000</td>\n",
       "    </tr>\n",
       "    <tr>\n",
       "      <th>75%</th>\n",
       "      <td>31.420000</td>\n",
       "      <td>2.00000</td>\n",
       "      <td>3.000000</td>\n",
       "      <td>8.000000</td>\n",
       "    </tr>\n",
       "    <tr>\n",
       "      <th>max</th>\n",
       "      <td>94.850000</td>\n",
       "      <td>30.00000</td>\n",
       "      <td>30.000000</td>\n",
       "      <td>24.000000</td>\n",
       "    </tr>\n",
       "  </tbody>\n",
       "</table>\n",
       "</div>"
      ],
      "text/plain": [
       "                 BMI  PhysicalHealth   MentalHealth      SleepTime\n",
       "count  319795.000000    319795.00000  319795.000000  319795.000000\n",
       "mean       28.325399         3.37171       3.898366       7.097075\n",
       "std         6.356100         7.95085       7.955235       1.436007\n",
       "min        12.020000         0.00000       0.000000       1.000000\n",
       "25%        24.030000         0.00000       0.000000       6.000000\n",
       "50%        27.340000         0.00000       0.000000       7.000000\n",
       "75%        31.420000         2.00000       3.000000       8.000000\n",
       "max        94.850000        30.00000      30.000000      24.000000"
      ]
     },
     "execution_count": 4,
     "metadata": {},
     "output_type": "execute_result"
    }
   ],
   "source": [
    "df.describe()"
   ]
  },
  {
   "cell_type": "code",
   "execution_count": 5,
   "id": "0fd4c46d",
   "metadata": {
    "execution": {
     "iopub.execute_input": "2022-04-20T10:22:52.144487Z",
     "iopub.status.busy": "2022-04-20T10:22:52.143869Z",
     "iopub.status.idle": "2022-04-20T10:22:52.620829Z",
     "shell.execute_reply": "2022-04-20T10:22:52.620220Z",
     "shell.execute_reply.started": "2022-04-20T10:20:40.119003Z"
    },
    "papermill": {
     "duration": 0.499563,
     "end_time": "2022-04-20T10:22:52.620958",
     "exception": false,
     "start_time": "2022-04-20T10:22:52.121395",
     "status": "completed"
    },
    "tags": []
   },
   "outputs": [
    {
     "data": {
      "text/plain": [
       "HeartDisease        0\n",
       "BMI                 0\n",
       "Smoking             0\n",
       "AlcoholDrinking     0\n",
       "Stroke              0\n",
       "PhysicalHealth      0\n",
       "MentalHealth        0\n",
       "DiffWalking         0\n",
       "Sex                 0\n",
       "AgeCategory         0\n",
       "Race                0\n",
       "Diabetic            0\n",
       "PhysicalActivity    0\n",
       "GenHealth           0\n",
       "SleepTime           0\n",
       "Asthma              0\n",
       "KidneyDisease       0\n",
       "SkinCancer          0\n",
       "dtype: int64"
      ]
     },
     "execution_count": 5,
     "metadata": {},
     "output_type": "execute_result"
    }
   ],
   "source": [
    "df.isnull().sum()"
   ]
  },
  {
   "cell_type": "code",
   "execution_count": 6,
   "id": "4e597f75",
   "metadata": {
    "execution": {
     "iopub.execute_input": "2022-04-20T10:22:52.683446Z",
     "iopub.status.busy": "2022-04-20T10:22:52.682816Z",
     "iopub.status.idle": "2022-04-20T10:22:52.996823Z",
     "shell.execute_reply": "2022-04-20T10:22:52.996187Z",
     "shell.execute_reply.started": "2022-04-20T10:20:40.314196Z"
    },
    "papermill": {
     "duration": 0.355572,
     "end_time": "2022-04-20T10:22:52.996956",
     "exception": false,
     "start_time": "2022-04-20T10:22:52.641384",
     "status": "completed"
    },
    "tags": []
   },
   "outputs": [
    {
     "data": {
      "text/plain": [
       "HeartDisease           2\n",
       "BMI                 3604\n",
       "Smoking                2\n",
       "AlcoholDrinking        2\n",
       "Stroke                 2\n",
       "PhysicalHealth        31\n",
       "MentalHealth          31\n",
       "DiffWalking            2\n",
       "Sex                    2\n",
       "AgeCategory           13\n",
       "Race                   6\n",
       "Diabetic               4\n",
       "PhysicalActivity       2\n",
       "GenHealth              5\n",
       "SleepTime             24\n",
       "Asthma                 2\n",
       "KidneyDisease          2\n",
       "SkinCancer             2\n",
       "dtype: int64"
      ]
     },
     "execution_count": 6,
     "metadata": {},
     "output_type": "execute_result"
    }
   ],
   "source": [
    "df.nunique()"
   ]
  },
  {
   "cell_type": "code",
   "execution_count": 7,
   "id": "bbfce7db",
   "metadata": {
    "execution": {
     "iopub.execute_input": "2022-04-20T10:22:53.043027Z",
     "iopub.status.busy": "2022-04-20T10:22:53.042421Z",
     "iopub.status.idle": "2022-04-20T10:22:53.098323Z",
     "shell.execute_reply": "2022-04-20T10:22:53.098881Z",
     "shell.execute_reply.started": "2022-04-20T10:20:40.575629Z"
    },
    "papermill": {
     "duration": 0.081271,
     "end_time": "2022-04-20T10:22:53.099057",
     "exception": false,
     "start_time": "2022-04-20T10:22:53.017786",
     "status": "completed"
    },
    "tags": []
   },
   "outputs": [
    {
     "data": {
      "text/plain": [
       "No                         269653\n",
       "Yes                         40802\n",
       "No, borderline diabetes      6781\n",
       "Yes (during pregnancy)       2559\n",
       "Name: Diabetic, dtype: int64"
      ]
     },
     "execution_count": 7,
     "metadata": {},
     "output_type": "execute_result"
    }
   ],
   "source": [
    "df['Diabetic'].value_counts()"
   ]
  },
  {
   "cell_type": "code",
   "execution_count": 8,
   "id": "d81598d5",
   "metadata": {
    "execution": {
     "iopub.execute_input": "2022-04-20T10:22:53.146166Z",
     "iopub.status.busy": "2022-04-20T10:22:53.145216Z",
     "iopub.status.idle": "2022-04-20T10:22:53.214311Z",
     "shell.execute_reply": "2022-04-20T10:22:53.213736Z",
     "shell.execute_reply.started": "2022-04-20T10:20:40.604979Z"
    },
    "papermill": {
     "duration": 0.093486,
     "end_time": "2022-04-20T10:22:53.214466",
     "exception": false,
     "start_time": "2022-04-20T10:22:53.120980",
     "status": "completed"
    },
    "tags": []
   },
   "outputs": [],
   "source": [
    "df['Diabetic'].replace({'No, borderline diabetes':'No','Yes (during pregnancy)':'Yes'}, inplace = True)"
   ]
  },
  {
   "cell_type": "code",
   "execution_count": 9,
   "id": "834924c8",
   "metadata": {
    "execution": {
     "iopub.execute_input": "2022-04-20T10:22:53.313254Z",
     "iopub.status.busy": "2022-04-20T10:22:53.312610Z",
     "iopub.status.idle": "2022-04-20T10:22:53.316325Z",
     "shell.execute_reply": "2022-04-20T10:22:53.315808Z",
     "shell.execute_reply.started": "2022-04-20T10:20:40.642956Z"
    },
    "papermill": {
     "duration": 0.080809,
     "end_time": "2022-04-20T10:22:53.316464",
     "exception": false,
     "start_time": "2022-04-20T10:22:53.235655",
     "status": "completed"
    },
    "tags": []
   },
   "outputs": [
    {
     "data": {
      "text/plain": [
       "No     276434\n",
       "Yes     43361\n",
       "Name: Diabetic, dtype: int64"
      ]
     },
     "execution_count": 9,
     "metadata": {},
     "output_type": "execute_result"
    }
   ],
   "source": [
    "df['Diabetic'].value_counts()"
   ]
  },
  {
   "cell_type": "code",
   "execution_count": 10,
   "id": "2393ead6",
   "metadata": {
    "execution": {
     "iopub.execute_input": "2022-04-20T10:22:53.363464Z",
     "iopub.status.busy": "2022-04-20T10:22:53.362525Z",
     "iopub.status.idle": "2022-04-20T10:22:53.614151Z",
     "shell.execute_reply": "2022-04-20T10:22:53.614680Z",
     "shell.execute_reply.started": "2022-04-20T10:20:40.673034Z"
    },
    "papermill": {
     "duration": 0.276676,
     "end_time": "2022-04-20T10:22:53.614856",
     "exception": false,
     "start_time": "2022-04-20T10:22:53.338180",
     "status": "completed"
    },
    "tags": []
   },
   "outputs": [
    {
     "data": {
      "text/plain": [
       "(array([8.0900e+02, 1.6475e+04, 7.6100e+04, 9.6006e+04, 6.6812e+04,\n",
       "        3.4051e+04, 1.6077e+04, 7.2500e+03, 3.3520e+03, 1.5360e+03,\n",
       "        6.2900e+02, 3.0800e+02, 1.8400e+02, 7.7000e+01, 5.3000e+01,\n",
       "        3.4000e+01, 1.5000e+01, 1.4000e+01, 5.0000e+00, 8.0000e+00]),\n",
       " array([12.02  , 16.1615, 20.303 , 24.4445, 28.586 , 32.7275, 36.869 ,\n",
       "        41.0105, 45.152 , 49.2935, 53.435 , 57.5765, 61.718 , 65.8595,\n",
       "        70.001 , 74.1425, 78.284 , 82.4255, 86.567 , 90.7085, 94.85  ]),\n",
       " <BarContainer object of 20 artists>)"
      ]
     },
     "execution_count": 10,
     "metadata": {},
     "output_type": "execute_result"
    },
    {
     "data": {
      "image/png": "[encoded data removed]",
      "text/plain": [
       "<Figure size 432x288 with 1 Axes>"
      ]
     },
     "metadata": {
      "needs_background": "light"
     },
     "output_type": "display_data"
    }
   ],
   "source": [
    "plt.hist(x = df['BMI'], bins = 20)"
   ]
  },
  {
   "cell_type": "code",
   "execution_count": 11,
   "id": "77976a26",
   "metadata": {
    "execution": {
     "iopub.execute_input": "2022-04-20T10:22:53.665854Z",
     "iopub.status.busy": "2022-04-20T10:22:53.664804Z",
     "iopub.status.idle": "2022-04-20T10:22:53.897588Z",
     "shell.execute_reply": "2022-04-20T10:22:53.896887Z",
     "shell.execute_reply.started": "2022-04-20T10:20:40.889179Z"
    },
    "papermill": {
     "duration": 0.259359,
     "end_time": "2022-04-20T10:22:53.897726",
     "exception": false,
     "start_time": "2022-04-20T10:22:53.638367",
     "status": "completed"
    },
    "tags": []
   },
   "outputs": [
    {
     "data": {
      "text/plain": [
       "(array([2.37078e+05, 1.48800e+04, 1.30850e+04, 7.60600e+03, 5.89900e+03,\n",
       "        9.24000e+02, 5.63300e+03, 8.50000e+01, 6.96000e+02, 2.89300e+03,\n",
       "        5.14700e+03, 1.10000e+02, 2.02000e+02, 3.21600e+03, 7.15000e+02,\n",
       "        4.60000e+01, 1.23100e+03, 6.60000e+01, 5.70000e+02, 1.97130e+04]),\n",
       " array([ 0. ,  1.5,  3. ,  4.5,  6. ,  7.5,  9. , 10.5, 12. , 13.5, 15. ,\n",
       "        16.5, 18. , 19.5, 21. , 22.5, 24. , 25.5, 27. , 28.5, 30. ]),\n",
       " <BarContainer object of 20 artists>)"
      ]
     },
     "execution_count": 11,
     "metadata": {},
     "output_type": "execute_result"
    },
    {
     "data": {
      "image/png": "[encoded data removed]",
      "text/plain": [
       "<Figure size 432x288 with 1 Axes>"
      ]
     },
     "metadata": {
      "needs_background": "light"
     },
     "output_type": "display_data"
    }
   ],
   "source": [
    "plt.hist(x = df['PhysicalHealth'], bins = 20)"
   ]
  },
  {
   "cell_type": "code",
   "execution_count": 12,
   "id": "89621d6d",
   "metadata": {
    "execution": {
     "iopub.execute_input": "2022-04-20T10:22:53.965055Z",
     "iopub.status.busy": "2022-04-20T10:22:53.964433Z",
     "iopub.status.idle": "2022-04-20T10:22:54.177745Z",
     "shell.execute_reply": "2022-04-20T10:22:54.177223Z",
     "shell.execute_reply.started": "2022-04-20T10:20:41.116905Z"
    },
    "papermill": {
     "duration": 0.25606,
     "end_time": "2022-04-20T10:22:54.177879",
     "exception": false,
     "start_time": "2022-04-20T10:22:53.921819",
     "status": "completed"
    },
    "tags": []
   },
   "outputs": [
    {
     "data": {
      "text/plain": [
       "(array([2.14692e+05, 1.64950e+04, 1.58450e+04, 1.41490e+04, 7.03800e+03,\n",
       "        1.09400e+03, 1.07160e+04, 8.30000e+01, 8.67000e+02, 2.04800e+03,\n",
       "        1.00480e+04, 1.28000e+02, 2.32000e+02, 5.43100e+03, 4.50000e+02,\n",
       "        6.80000e+01, 2.02100e+03, 5.90000e+01, 6.41000e+02, 1.76900e+04]),\n",
       " array([ 0. ,  1.5,  3. ,  4.5,  6. ,  7.5,  9. , 10.5, 12. , 13.5, 15. ,\n",
       "        16.5, 18. , 19.5, 21. , 22.5, 24. , 25.5, 27. , 28.5, 30. ]),\n",
       " <BarContainer object of 20 artists>)"
      ]
     },
     "execution_count": 12,
     "metadata": {},
     "output_type": "execute_result"
    },
    {
     "data": {
      "image/png": "[encoded data removed]",
      "text/plain": [
       "<Figure size 432x288 with 1 Axes>"
      ]
     },
     "metadata": {
      "needs_background": "light"
     },
     "output_type": "display_data"
    }
   ],
   "source": [
    "plt.hist(x = df['MentalHealth'], bins = 20)"
   ]
  },
  {
   "cell_type": "code",
   "execution_count": 13,
   "id": "d4c9c2ae",
   "metadata": {
    "execution": {
     "iopub.execute_input": "2022-04-20T10:22:54.232318Z",
     "iopub.status.busy": "2022-04-20T10:22:54.231692Z",
     "iopub.status.idle": "2022-04-20T10:22:54.455123Z",
     "shell.execute_reply": "2022-04-20T10:22:54.454619Z",
     "shell.execute_reply.started": "2022-04-20T10:20:41.339743Z"
    },
    "papermill": {
     "duration": 0.25219,
     "end_time": "2022-04-20T10:22:54.455258",
     "exception": false,
     "start_time": "2022-04-20T10:22:54.203068",
     "status": "completed"
    },
    "tags": []
   },
   "outputs": [
    {
     "data": {
      "text/plain": [
       "(array([1.33900e+03, 1.99200e+03, 7.75000e+03, 1.91840e+04, 6.67210e+04,\n",
       "        9.77510e+04, 1.13643e+05, 7.79600e+03, 4.15000e+02, 2.20500e+03,\n",
       "        9.70000e+01, 2.43000e+02, 1.89000e+02, 2.57000e+02, 1.02000e+02,\n",
       "        3.00000e+00, 6.40000e+01, 2.00000e+00, 9.00000e+00, 3.30000e+01]),\n",
       " array([ 1.  ,  2.15,  3.3 ,  4.45,  5.6 ,  6.75,  7.9 ,  9.05, 10.2 ,\n",
       "        11.35, 12.5 , 13.65, 14.8 , 15.95, 17.1 , 18.25, 19.4 , 20.55,\n",
       "        21.7 , 22.85, 24.  ]),\n",
       " <BarContainer object of 20 artists>)"
      ]
     },
     "execution_count": 13,
     "metadata": {},
     "output_type": "execute_result"
    },
    {
     "data": {
      "image/png": "[encoded data removed]",
      "text/plain": [
       "<Figure size 432x288 with 1 Axes>"
      ]
     },
     "metadata": {
      "needs_background": "light"
     },
     "output_type": "display_data"
    }
   ],
   "source": [
    "plt.hist(x = df['SleepTime'], bins = 20)"
   ]
  },
  {
   "cell_type": "code",
   "execution_count": 14,
   "id": "59544633",
   "metadata": {
    "execution": {
     "iopub.execute_input": "2022-04-20T10:22:54.512565Z",
     "iopub.status.busy": "2022-04-20T10:22:54.511914Z",
     "iopub.status.idle": "2022-04-20T10:22:54.823838Z",
     "shell.execute_reply": "2022-04-20T10:22:54.823181Z",
     "shell.execute_reply.started": "2022-04-20T10:20:41.562313Z"
    },
    "papermill": {
     "duration": 0.342473,
     "end_time": "2022-04-20T10:22:54.823992",
     "exception": false,
     "start_time": "2022-04-20T10:22:54.481519",
     "status": "completed"
    },
    "tags": []
   },
   "outputs": [
    {
     "data": {
      "text/plain": [
       "<AxesSubplot:>"
      ]
     },
     "execution_count": 14,
     "metadata": {},
     "output_type": "execute_result"
    },
    {
     "data": {
      "image/png": "[encoded data removed]",
      "text/plain": [
       "<Figure size 432x288 with 2 Axes>"
      ]
     },
     "metadata": {
      "needs_background": "light"
     },
     "output_type": "display_data"
    }
   ],
   "source": [
    "corr = df.corr()\n",
    "sns.heatmap(corr, cmap=\"Blues\", annot=True)"
   ]
  }
 ],
 "metadata": {
  "kernelspec": {
   "display_name": "Python 3",
   "language": "python",
   "name": "python3"
  },
  "language_info": {
   "codemirror_mode": {
    "name": "ipython",
    "version": 3
   },
   "file_extension": ".py",
   "mimetype": "text/x-python",
   "name": "python",
   "nbconvert_exporter": "python",
   "pygments_lexer": "ipython3",
   "version": "3.7.12"
  },
  "papermill": {
   "default_parameters": {},
   "duration": 16.080527,
   "end_time": "2022-04-20T10:22:55.562005",
   "environment_variables": {},
   "exception": null,
   "input_path": "__notebook__.ipynb",
   "output_path": "__notebook__.ipynb",
   "parameters": {},
   "start_time": "2022-04-20T10:22:39.481478",
   "version": "2.3.3"
  }
 },
 "nbformat": 4,
 "nbformat_minor": 5
}
